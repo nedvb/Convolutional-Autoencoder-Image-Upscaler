{
  "nbformat": 4,
  "nbformat_minor": 0,
  "metadata": {
    "colab": {
      "provenance": [],
      "authorship_tag": "ABX9TyMsAqrEsAYCH29oE2W39pf4",
      "include_colab_link": true
    },
    "kernelspec": {
      "name": "python3",
      "display_name": "Python 3"
    },
    "language_info": {
      "name": "python"
    }
  },
  "cells": [
    {
      "cell_type": "markdown",
      "metadata": {
        "id": "view-in-github",
        "colab_type": "text"
      },
      "source": [
        "<a href=\"https://colab.research.google.com/github/nedvb/Convolutional-Autoencoder-Image-Upscaler/blob/master/CPSC4430_NedVanBreugel_ML_Assignment3.ipynb\" target=\"_parent\"><img src=\"https://colab.research.google.com/assets/colab-badge.svg\" alt=\"Open In Colab\"/></a>"
      ]
    },
    {
      "cell_type": "code",
      "source": [
        "import os\n",
        "import torch\n",
        "import torch.nn as nn\n",
        "import torch.nn.functional as F\n",
        "import torchvision.transforms as transforms\n",
        "from torch.utils.data import DataLoader\n",
        "import numpy as np\n",
        "import glob\n",
        "from PIL import Image\n",
        "import torchvision\n",
        "import matplotlib.pyplot as plt\n",
        "\n",
        "latent_dims = 10\n",
        "num_epochs = 3\n",
        "batch_size = 128\n",
        "capacity = 64\n",
        "learning_rate = 1e-3\n",
        "use_gpu = torch.cuda.is_available()\n",
        "\n",
        "!git clone https://github.com/nedvb/ML-Project-3.git\n",
        "%cd ML-Project-3/\n",
        "\n",
        "class CustomDataset(torch.utils.data.Dataset):\n",
        "    def __init__(self, file_list, transform=None):\n",
        "        self.file_list = file_list\n",
        "        self.transform = transform\n",
        "\n",
        "    def __len__(self):\n",
        "        return len(self.file_list)\n",
        "\n",
        "    def __getitem__(self, idx):\n",
        "        image = Image.open(self.file_list[idx])\n",
        "        if self.transform:\n",
        "            image = self.transform(image)\n",
        "        return image\n",
        "\n",
        "transform = transforms.Compose([\n",
        "    transforms.Resize((28, 28)),\n",
        "    transforms.Grayscale(num_output_channels=1),\n",
        "    transforms.ToTensor(),\n",
        "    transforms.Normalize(mean=[0.5], std=[0.5])\n",
        "])\n",
        "\n",
        "train_files = glob.glob('./train_2500/*.jpg')\n",
        "test_files = glob.glob('./test_2500/*.jpg')\n",
        "custom_dataset_train = CustomDataset(train_files, transform=transform)\n",
        "custom_dataset_test = CustomDataset(test_files, transform = transform)"
      ],
      "metadata": {
        "colab": {
          "base_uri": "https://localhost:8080/"
        },
        "id": "gRcatuZbWZRG",
        "outputId": "34ba1579-2933-4c6a-e7b8-67e6f5fcbd29"
      },
      "execution_count": null,
      "outputs": [
        {
          "output_type": "stream",
          "name": "stdout",
          "text": [
            "Cloning into 'ML-Project-3'...\n",
            "remote: Enumerating objects: 5003, done.\u001b[K\n",
            "remote: Total 5003 (delta 0), reused 0 (delta 0), pack-reused 5003\u001b[K\n",
            "Receiving objects: 100% (5003/5003), 108.39 MiB | 10.21 MiB/s, done.\n",
            "Updating files: 100% (5000/5000), done.\n",
            "/content/ML-Project-3\n"
          ]
        }
      ]
    },
    {
      "cell_type": "code",
      "source": [
        "train_dataloader = DataLoader(custom_dataset_train, batch_size=64, shuffle=True)\n",
        "test_dataloader = DataLoader(custom_dataset_test, batch_size=64, shuffle=False)"
      ],
      "metadata": {
        "id": "ShZkVBIDnPR4"
      },
      "execution_count": null,
      "outputs": []
    },
    {
      "cell_type": "code",
      "source": [
        "class Encoder(nn.Module):\n",
        "    def __init__(self, capacity=64):\n",
        "        super(Encoder, self).__init__()\n",
        "        c = capacity\n",
        "        self.conv1 = nn.Conv2d(in_channels=1, out_channels=c, kernel_size=3, stride=1, padding=1)  # 28x28 -> 28x28\n",
        "        self.conv2 = nn.Conv2d(in_channels=c, out_channels=c*2, kernel_size=3, stride=2, padding=1)  # 28x28 -> 14x14\n",
        "        self.conv3 = nn.Conv2d(in_channels=c*2, out_channels=c*4, kernel_size=3, stride=2, padding=1)  # 14x14 -> 7x7\n",
        "\n",
        "    def forward(self, x):\n",
        "        x = F.relu(self.conv1(x))\n",
        "        x = F.relu(self.conv2(x))\n",
        "        x = F.relu(self.conv3(x))\n",
        "        return x"
      ],
      "metadata": {
        "id": "zvm52gwynYcg"
      },
      "execution_count": null,
      "outputs": []
    },
    {
      "cell_type": "code",
      "source": [
        "class Decoder(nn.Module):\n",
        "    def __init__(self, capacity=64):\n",
        "        super(Decoder, self).__init__()\n",
        "        c = capacity\n",
        "        self.upconv1 = nn.ConvTranspose2d(in_channels=c*4, out_channels=c*2, kernel_size=4, stride=2, padding=1)  # 7x7 -> 14x14\n",
        "        self.upconv2 = nn.ConvTranspose2d(in_channels=c*2, out_channels=c, kernel_size=4, stride=2, padding=1)  # 14x14 -> 28x28\n",
        "        self.upconv3 = nn.ConvTranspose2d(in_channels=c, out_channels=1, kernel_size=4, stride=2, padding=1)  # 28x28 -> 56x56\n",
        "\n",
        "    def forward(self, x):\n",
        "        x = F.relu(self.upconv1(x))\n",
        "        x = F.relu(self.upconv2(x))\n",
        "        x = torch.sigmoid(self.upconv3(x))\n",
        "        return x"
      ],
      "metadata": {
        "id": "HcSfYM7eobSG"
      },
      "execution_count": null,
      "outputs": []
    },
    {
      "cell_type": "code",
      "source": [
        "class Autoencoder(nn.Module):\n",
        "    def __init__(self):\n",
        "        super(Autoencoder, self).__init__()\n",
        "        self.encoder = Encoder()\n",
        "        self.decoder = Decoder()\n",
        "\n",
        "    def forward(self, x):\n",
        "        x = self.encoder(x)\n",
        "        x = self.decoder(x)\n",
        "        return x"
      ],
      "metadata": {
        "id": "A7rq-5Y9oiee"
      },
      "execution_count": null,
      "outputs": []
    },
    {
      "cell_type": "code",
      "source": [
        "device = torch.device(\"cuda\" if torch.cuda.is_available() else \"cpu\")\n",
        "autoencoder = Autoencoder().to(device)\n",
        "optimizer = torch.optim.Adam(autoencoder.parameters(), lr=1e-3)\n",
        "criterion = nn.MSELoss()\n",
        "\n",
        "num_epochs = 20\n",
        "\n",
        "for epoch in range(num_epochs):\n",
        "    for imgs in train_dataloader:\n",
        "        imgs = imgs.to(device)\n",
        "        optimizer.zero_grad()\n",
        "        outputs = autoencoder(imgs)\n",
        "        resized_imgs = F.interpolate(imgs, size=(56, 56), mode='bilinear', align_corners=False)\n",
        "        loss = criterion(outputs, resized_imgs)\n",
        "        loss.backward()\n",
        "        optimizer.step()\n",
        "    print(f\"Epoch {epoch+1}, Loss: {loss.item()}\")\n",
        "\n",
        "print(\"Training Complete\")"
      ],
      "metadata": {
        "colab": {
          "base_uri": "https://localhost:8080/"
        },
        "id": "z7ggAoFEopTE",
        "outputId": "b02663b0-79fd-443f-e3f4-c218f225a876"
      },
      "execution_count": null,
      "outputs": [
        {
          "output_type": "stream",
          "name": "stdout",
          "text": [
            "Epoch 1, Loss: 0.2485077679157257\n",
            "Epoch 2, Loss: 0.23080426454544067\n",
            "Epoch 3, Loss: 0.17278257012367249\n",
            "Epoch 4, Loss: 0.10845839977264404\n",
            "Epoch 5, Loss: 0.17378419637680054\n",
            "Epoch 6, Loss: 0.15180973708629608\n",
            "Epoch 7, Loss: 0.09829165786504745\n",
            "Epoch 8, Loss: 0.1165669783949852\n",
            "Epoch 9, Loss: 0.20036837458610535\n",
            "Epoch 10, Loss: 0.16730499267578125\n",
            "Epoch 11, Loss: 0.11901457607746124\n",
            "Epoch 12, Loss: 0.14179393649101257\n",
            "Epoch 13, Loss: 0.0714932456612587\n",
            "Epoch 14, Loss: 0.150368794798851\n",
            "Epoch 15, Loss: 0.2044585645198822\n",
            "Epoch 16, Loss: 0.1245710626244545\n",
            "Epoch 17, Loss: 0.1303676962852478\n",
            "Epoch 18, Loss: 0.046893101185560226\n",
            "Epoch 19, Loss: 0.1026458814740181\n",
            "Epoch 20, Loss: 0.0944034531712532\n",
            "Training Complete\n"
          ]
        }
      ]
    },
    {
      "cell_type": "code",
      "source": [
        "def imshow(img):\n",
        "    img = img / 2 + 0.5\n",
        "    npimg = img.numpy()\n",
        "    plt.imshow(np.transpose(npimg, (1, 2, 0)))\n",
        "    plt.show()\n",
        "\n",
        "dataiter = iter(test_dataloader)\n",
        "images = next(dataiter)\n",
        "images = images.to(device)\n",
        "recon_images = autoencoder(images)\n",
        "\n",
        "print(\"Original Images\")\n",
        "imshow(torchvision.utils.make_grid(images.cpu().data[:5], normalize=True))\n",
        "\n",
        "print(\"Reconstructed Images\")\n",
        "imshow(torchvision.utils.make_grid(recon_images.cpu().data[:5], normalize=True))"
      ],
      "metadata": {
        "colab": {
          "base_uri": "https://localhost:8080/",
          "height": 354
        },
        "id": "TcOo71uDrtDj",
        "outputId": "c7e40779-e154-432a-ed65-812685b48ea7"
      },
      "execution_count": null,
      "outputs": [
        {
          "output_type": "stream",
          "name": "stdout",
          "text": [
            "Original Images\n"
          ]
        },
        {
          "output_type": "display_data",
          "data": {
            "text/plain": [
              "<Figure size 640x480 with 1 Axes>"
            ],
            "image/png": "[encoded data removed]"
          },
          "metadata": {}
        },
        {
          "output_type": "stream",
          "name": "stdout",
          "text": [
            "Reconstructed Images\n"
          ]
        },
        {
          "output_type": "display_data",
          "data": {
            "text/plain": [
              "<Figure size 640x480 with 1 Axes>"
            ],
            "image/png": "[encoded data removed]"
          },
          "metadata": {}
        }
      ]
    }
  ]
}